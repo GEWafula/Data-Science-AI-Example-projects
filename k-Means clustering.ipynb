{
 "cells": [
  {
   "cell_type": "code",
   "execution_count": 1,
   "id": "b6bd0e87",
   "metadata": {},
   "outputs": [],
   "source": [
    "%matplotlib inline\n",
    "import matplotlib.pyplot as plt\n",
    "\n",
    "import os\n",
    "os.environ['OMP_NUM_THREADS'] = '2'  # Set the environment variable to avoid memory leak warning\n",
    "os.environ['LOKY_MAX_CPU_COUNT'] = '4'  # Optional: Limit CPU count for Loky\n",
    "\n",
    "# for plot styling\n",
    "import seaborn as sns; sns.set_theme()\n",
    "import numpy as np"
   ]
  },
  {
   "cell_type": "code",
   "execution_count": 4,
   "id": "f821ac65",
   "metadata": {},
   "outputs": [],
   "source": [
    "from sklearn.datasets._samples_generator import make_blobs\n",
    "X, y_true = make_blobs (n_samples=300, centers=4, cluster_std=0.60, random_state=0)\n",
    "plt.scatter(X[:, 0], X[:, 1], s=50);"
   ]
  },
  {
   "cell_type": "code",
   "execution_count": 5,
   "id": "1f4c3c6d",
   "metadata": {},
   "outputs": [],
   "source": [
    "#assign four clusters\n",
    "from sklearn.cluster import KMeans\n",
    "Kmeans = KMeans(n_clusters=4)\n",
    "Kmeans.fit(X)\n",
    "y_kmeans = Kmeans.predict(X)"
   ]
  },
  {
   "cell_type": "code",
   "execution_count": 6,
   "id": "721ca37c",
   "metadata": {},
   "outputs": [
    {
     "data": {
      "text/plain": [
       "array([1, 2, 3, 2, 1, 1, 0, 3, 2, 2, 0, 2, 3, 2, 1, 3, 3, 1, 0, 0, 1, 1,\n",
       "       3, 0, 0, 3, 1, 3, 0, 3, 2, 2, 3, 2, 2, 2, 2, 2, 0, 1, 3, 0, 3, 3,\n",
       "       0, 0, 2, 0, 2, 1, 0, 1, 2, 1, 1, 0, 2, 0, 2, 1, 2, 3, 2, 0, 0, 0,\n",
       "       2, 1, 2, 0, 3, 0, 2, 0, 0, 2, 0, 3, 1, 2, 1, 3, 1, 1, 2, 3, 1, 3,\n",
       "       2, 2, 3, 1, 2, 0, 0, 3, 1, 1, 3, 0, 2, 1, 2, 1, 3, 1, 1, 3, 2, 3,\n",
       "       0, 0, 1, 2, 1, 3, 2, 1, 1, 3, 0, 1, 0, 1, 1, 1, 1, 0, 1, 0, 2, 0,\n",
       "       0, 1, 2, 0, 0, 2, 3, 2, 2, 0, 3, 0, 3, 0, 2, 3, 2, 2, 2, 3, 2, 3,\n",
       "       1, 0, 2, 0, 1, 3, 2, 3, 3, 1, 3, 0, 0, 3, 1, 3, 3, 2, 1, 3, 0, 2,\n",
       "       1, 1, 3, 0, 1, 3, 0, 0, 3, 3, 3, 3, 1, 2, 3, 0, 3, 3, 0, 0, 0, 3,\n",
       "       0, 2, 3, 0, 1, 0, 3, 2, 0, 2, 3, 2, 3, 0, 3, 3, 2, 0, 0, 1, 1, 3,\n",
       "       2, 1, 1, 0, 1, 0, 3, 2, 2, 3, 3, 2, 3, 1, 0, 3, 1, 0, 2, 0, 1, 3,\n",
       "       1, 2, 2, 2, 2, 0, 0, 2, 3, 0, 1, 3, 0, 0, 0, 1, 1, 2, 3, 3, 0, 1,\n",
       "       2, 0, 3, 2, 3, 1, 1, 0, 0, 3, 1, 1, 1, 3, 2, 2, 1, 1, 3, 1, 1, 1,\n",
       "       2, 0, 2, 3, 1, 1, 2, 2, 2, 1, 1, 3, 2, 0])"
      ]
     },
     "execution_count": 6,
     "metadata": {},
     "output_type": "execute_result"
    }
   ],
   "source": [
    "y_kmeans"
   ]
  },
  {
   "cell_type": "code",
   "execution_count": null,
   "id": "1509cc80",
   "metadata": {},
   "outputs": [],
   "source": [
    "#import library\n",
    "from sklearn.metrics import pairwise_distances_argmin\n",
    "def find_clusters(X, n_clusters, rseed=2):\n",
    "\n",
    "# 1 randomly choose clusters\n",
    "    rng = np.random.RandomState(rseed)\n",
    "    i = rng.permutation(X.shape[0])[:n_clusters]\n",
    "    centers = X[i]\n",
    "\n",
    "    while True:\n",
    "\n",
    "# 2 assign labels based on closest center\n",
    "        labels = pairwise_distances_argmin(X, centers)\n",
    "\n",
    " # 3 find new centers frommeans of points\n",
    "        new_centers = np.array([X[labels == i].mean(0)\n",
    "                               for i in range(n_clusters)])\n",
    "        \n",
    "#check for convergence\n",
    "#basic implentetion -> flaws include 1. centroid position will \n",
    "# be moving and change will be very minor 2.it may take forever additional\n",
    "#  check may have to be added in here\n",
    "        if np.all(centers == new_centers):\n",
    "          break\n",
    "    centers = new_centers\n",
    "\n",
    "    return centers, labels\n",
    "\n",
    "centers, labels = find_clusters(X, 4)\n",
    "plt.scatter(X[:, 0], X[:, 1], c=y_kmeans, s=50, cmap='viridis')\n",
    "\n",
    "plt.scatter(centers[:, 0], centers[:, 1], c='black', s=200, alpha=0.5);"
   ]
  },
  {
   "cell_type": "markdown",
   "id": "d406287f",
   "metadata": {},
   "source": [
    "conclusion\n",
    "I have demonstrated K-Means clustering by establishing Walmart stores across Florida in the most optimized way.\n",
    "YAY!"
   ]
  },
  {
   "cell_type": "markdown",
   "id": "5a4a8e4b",
   "metadata": {},
   "source": [
    "use case"
   ]
  },
  {
   "cell_type": "code",
   "execution_count": null,
   "id": "daf33f57",
   "metadata": {},
   "outputs": [],
   "source": [
    "from sklearn.datasets import load_sample_image #install pillow package first for this to run\n",
    "china = load_sample_image(\"flower.jpg\")\n",
    "ax =plt.axes(xticks=[], yticks=[])\n",
    "ax.imshow(china);"
   ]
  },
  {
   "cell_type": "code",
   "execution_count": 10,
   "id": "5e5d2038",
   "metadata": {},
   "outputs": [
    {
     "data": {
      "text/plain": [
       "(427, 640, 3)"
      ]
     },
     "execution_count": 10,
     "metadata": {},
     "output_type": "execute_result"
    }
   ],
   "source": [
    "#returns the dimensions of array\n",
    "\n",
    "china.shape"
   ]
  },
  {
   "cell_type": "code",
   "execution_count": 12,
   "id": "aff04db7",
   "metadata": {},
   "outputs": [
    {
     "data": {
      "text/plain": [
       "array([[[ 2, 19, 13],\n",
       "        [ 3, 18, 13],\n",
       "        [ 7, 20, 13],\n",
       "        ...,\n",
       "        [ 1, 77, 64],\n",
       "        [ 0, 76, 64],\n",
       "        [ 0, 75, 63]],\n",
       "\n",
       "       [[ 1, 18, 12],\n",
       "        [ 3, 18, 13],\n",
       "        [ 7, 20, 13],\n",
       "        ...,\n",
       "        [ 0, 76, 64],\n",
       "        [ 1, 74, 65],\n",
       "        [ 1, 74, 65]],\n",
       "\n",
       "       [[ 2, 17, 12],\n",
       "        [ 6, 19, 12],\n",
       "        [ 7, 20, 13],\n",
       "        ...,\n",
       "        [ 1, 74, 65],\n",
       "        [ 1, 74, 67],\n",
       "        [ 1, 74, 67]],\n",
       "\n",
       "       ...,\n",
       "\n",
       "       [[ 0, 46, 40],\n",
       "        [ 1, 48, 40],\n",
       "        [ 1, 47, 37],\n",
       "        ...,\n",
       "        [ 5, 44, 26],\n",
       "        [ 6, 43, 26],\n",
       "        [ 7, 44, 27]],\n",
       "\n",
       "       [[ 0, 47, 41],\n",
       "        [ 1, 48, 40],\n",
       "        [ 1, 47, 37],\n",
       "        ...,\n",
       "        [ 6, 45, 27],\n",
       "        [ 7, 44, 27],\n",
       "        [ 7, 44, 27]],\n",
       "\n",
       "       [[ 0, 47, 41],\n",
       "        [ 1, 48, 40],\n",
       "        [ 0, 46, 36],\n",
       "        ...,\n",
       "        [ 7, 46, 28],\n",
       "        [ 8, 45, 28],\n",
       "        [ 9, 43, 27]]], dtype=uint8)"
      ]
     },
     "execution_count": 12,
     "metadata": {},
     "output_type": "execute_result"
    }
   ],
   "source": [
    "china"
   ]
  },
  {
   "cell_type": "code",
   "execution_count": 11,
   "id": "353a7ca2",
   "metadata": {},
   "outputs": [
    {
     "data": {
      "text/plain": [
       "(273280, 3)"
      ]
     },
     "execution_count": 11,
     "metadata": {},
     "output_type": "execute_result"
    }
   ],
   "source": [
    "#reshape the data to [n_samples x n_features], and rescale the colors so \n",
    "# that they lie between 0amd 1\n",
    "\n",
    "data = china / 255.0 # use 0...1 scale\n",
    "data = data.reshape(427 * 640, 3)\n",
    "data.shape"
   ]
  },
  {
   "cell_type": "code",
   "execution_count": 13,
   "id": "aac242d6",
   "metadata": {},
   "outputs": [
    {
     "data": {
      "text/plain": [
       "array([[0.00784314, 0.0745098 , 0.05098039],\n",
       "       [0.01176471, 0.07058824, 0.05098039],\n",
       "       [0.02745098, 0.07843137, 0.05098039],\n",
       "       ...,\n",
       "       [0.02745098, 0.18039216, 0.10980392],\n",
       "       [0.03137255, 0.17647059, 0.10980392],\n",
       "       [0.03529412, 0.16862745, 0.10588235]])"
      ]
     },
     "execution_count": 13,
     "metadata": {},
     "output_type": "execute_result"
    }
   ],
   "source": [
    "data"
   ]
  },
  {
   "cell_type": "code",
   "execution_count": 16,
   "id": "fcc480b8",
   "metadata": {},
   "outputs": [],
   "source": [
    "#visualize these pixels in this color space using a subset of 10,000 pixels\n",
    "#  for efficiency\n",
    "\n",
    "def plot_pixels(data,  title, colors=None, N=10000):\n",
    "    if colors is None:\n",
    "        colors = data\n",
    "        \n",
    "    # choose a random subaset\n",
    "    rng = np.random.RandomState(0)\n",
    "    i = rng.permutation(data.shape[0]) [:N]\n",
    "    colors = colors[i]\n",
    "    R, G, B = data[i].T\n",
    "\n",
    "    fig, ax = plt.subplots(1, 2, figsize= (16, 6))\n",
    "    ax[0].scatter( R, G, color= colors, marker='.')\n",
    "    ax[0].set(xlabel='Red', ylabel='Green', xlim=(0, 1), ylim=(0, 1))\n",
    "\n",
    "    ax[1].scatter( R, B, color= colors, marker='.')\n",
    "    ax[1].set(xlabel='Red', ylabel='Blue', xlim=(0, 1), ylim=(0, 1))\n",
    "\n",
    "    fig.suptitle(title, size=20);"
   ]
  },
  {
   "cell_type": "code",
   "execution_count": 17,
   "id": "81c28b09",
   "metadata": {},
   "outputs": [],
   "source": [
    "plot_pixels(data, title='inputcolor space: 16 million possible colors')"
   ]
  },
  {
   "cell_type": "code",
   "execution_count": null,
   "id": "e1d43c5f",
   "metadata": {},
   "outputs": [],
   "source": [
    "Import warnings; warning.simplefilter('ignore') # fix numpy issues\n",
    "\n",
    "from sklearn.cluster import MiniBatchKMeans\n",
    "kmeans = MiniBatchKMeans(16)\n",
    "kmeans.fit(data)\n",
    "new_colors = kmeans.cluster_centers_[kmeans.predict(data)]\n",
    "\n",
    "plot_pixels(data, colors=new_colors, title=\"Reduced color space 16 colors\")\n"
   ]
  },
  {
   "cell_type": "code",
   "execution_count": null,
   "id": "6a6ca965",
   "metadata": {},
   "outputs": [],
   "source": [
    "china_recolored = new_colors.reshape(china.shape)\n",
    "\n",
    "fig, ax = plt.subplots(1, 2 figure=(16,6), subplot_kw=dict(xtick=[], yticks=[]))\n",
    "fig.subplots_adjust(wspace=0.05)\n",
    "ax[0].imshow(china)\n",
    "ax[0].set_title('Original Image', size=16)\n",
    "ax[1].imshow(china_recolored)\n",
    "ax[1].set_title('16-color Image', size=16);"
   ]
  }
 ],
 "metadata": {
  "kernelspec": {
   "display_name": "base",
   "language": "python",
   "name": "python3"
  },
  "language_info": {
   "codemirror_mode": {
    "name": "ipython",
    "version": 3
   },
   "file_extension": ".py",
   "mimetype": "text/x-python",
   "name": "python",
   "nbconvert_exporter": "python",
   "pygments_lexer": "ipython3",
   "version": "3.12.7"
  }
 },
 "nbformat": 4,
 "nbformat_minor": 5
}
